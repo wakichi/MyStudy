{
 "cells": [
  {
   "cell_type": "markdown",
   "id": "painful-namibia",
   "metadata": {},
   "source": [
    "# 回帰分析を実装するよ！"
   ]
  },
  {
   "cell_type": "markdown",
   "id": "scenic-roulette",
   "metadata": {},
   "source": [
    "## 概要"
   ]
  },
  {
   "cell_type": "markdown",
   "id": "veterinary-papua",
   "metadata": {},
   "source": [
    "単回帰の回帰係数を求めるのは別途pdfにあります。  \n",
    "1. 基本的な方針としては、最小二乗法を使って係数に対する必要条件の式を構成する。  \n",
    "2. 最小二乗法の式が、f^２の和の形になっているので、おそらく凸関数＝＞微分係数が０の箇所が最小に  \n",
    "3. そこから係数の式を求める。これは分散と共分散のみで表せるので簡単に求まる。"
   ]
  },
  {
   "cell_type": "code",
   "execution_count": 2,
   "id": "based-drama",
   "metadata": {},
   "outputs": [],
   "source": [
    "import numpy as np\n",
    "import matplotlib.pyplot as plt"
   ]
  },
  {
   "cell_type": "code",
   "execution_count": 3,
   "id": "hazardous-radius",
   "metadata": {},
   "outputs": [],
   "source": [
    "# データの作成\n",
    "\n",
    "x = np.array([[10,20,30,40,50]])\n",
    "y = np.array([[30,50,60,80, 100]])"
   ]
  },
  {
   "cell_type": "code",
   "execution_count": 4,
   "id": "found-emphasis",
   "metadata": {},
   "outputs": [],
   "source": [
    "def single_regression(x, y):\n",
    "    \"\"\"\n",
    "    xとyはfloatのリスト\n",
    "    回帰係数の組を返す。\n",
    "    \"\"\"\n",
    "    x_ave = np.sum(x)/len(x) # 平均の値を計算\n",
    "    y_ave = np.sum(y)/len(y)\n",
    "    z = np.concatenate([x,y], axis = 0) # xとyを並べた配列。co-valianceを求めるのに使用。\n",
    "    co_valiance = np.cov(z)[1,0] # x yの共分散を計算\n",
    "    x_valiance = np.var(x) # xの分散を計算\n",
    "    a = co_valiance/x_valiance # なぜこれで求まるかは別途pdfを参照。\n",
    "    b = y_ave - a*x_ave\n",
    "    return (a,b)"
   ]
  },
  {
   "cell_type": "code",
   "execution_count": 5,
   "id": "actual-piano",
   "metadata": {},
   "outputs": [
    {
     "name": "stdout",
     "output_type": "stream",
     "text": [
      "y = 2.125*x+1.25\n"
     ]
    }
   ],
   "source": [
    "# 回帰の式を表示\n",
    "\n",
    "a,b = single_regression(x,y)\n",
    "print(f\"y = {a}*x+{b}\")"
   ]
  },
  {
   "cell_type": "code",
   "execution_count": 6,
   "id": "persistent-clerk",
   "metadata": {
    "jupyter": {
     "source_hidden": true
    },
    "tags": []
   },
   "outputs": [
    {
     "data": {
      "text/plain": [
       "<matplotlib.collections.PathCollection at 0x138dc52b0>"
      ]
     },
     "execution_count": 6,
     "metadata": {},
     "output_type": "execute_result"
    },
    {
     "data": {
      "image/png": "[encoded data removed]",
      "text/plain": [
       "<Figure size 432x288 with 1 Axes>"
      ]
     },
     "metadata": {
      "needs_background": "light"
     },
     "output_type": "display_data"
    }
   ],
   "source": [
    "plt.scatter(x,y)"
   ]
  },
  {
   "cell_type": "code",
   "execution_count": 7,
   "id": "solid-defeat",
   "metadata": {},
   "outputs": [
    {
     "data": {
      "text/plain": [
       "<matplotlib.collections.PathCollection at 0x138ee79a0>"
      ]
     },
     "execution_count": 7,
     "metadata": {},
     "output_type": "execute_result"
    },
    {
     "data": {
      "image/png": "[encoded data removed]",
      "text/plain": [
       "<Figure size 432x288 with 1 Axes>"
      ]
     },
     "metadata": {
      "needs_background": "light"
     },
     "output_type": "display_data"
    }
   ],
   "source": [
    "# xx, yyは式を表現するのに用いる\n",
    "\n",
    "xx = np.arange(0,50)\n",
    "yy = a*xx+b\n",
    "plt.scatter(xx,yy)\n",
    "plt.scatter(x,y)"
   ]
  },
  {
   "cell_type": "markdown",
   "id": "lovely-advertiser",
   "metadata": {},
   "source": [
    "## 今後の展望\n",
    "- クラス化して使いやすさを向上させる。\n",
    "- 決定係数や、分散などのデータも同時に表現できるようにする。\n",
    "- 重回帰分析バージョンも作る。"
   ]
  },
  {
   "cell_type": "code",
   "execution_count": null,
   "id": "municipal-contrary",
   "metadata": {},
   "outputs": [],
   "source": []
  }
 ],
 "metadata": {
  "kernelspec": {
   "display_name": "Python 3",
   "language": "python",
   "name": "python3"
  },
  "language_info": {
   "codemirror_mode": {
    "name": "ipython",
    "version": 3
   },
   "file_extension": ".py",
   "mimetype": "text/x-python",
   "name": "python",
   "nbconvert_exporter": "python",
   "pygments_lexer": "ipython3",
   "version": "3.8.7"
  }
 },
 "nbformat": 4,
 "nbformat_minor": 5
}
